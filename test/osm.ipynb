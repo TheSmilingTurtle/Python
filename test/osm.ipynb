{
 "cells": [
  {
   "cell_type": "code",
   "execution_count": 127,
   "metadata": {},
   "outputs": [],
   "source": [
    "from OSMPythonTools.api import Api\n",
    "from OSMPythonTools.overpass import Overpass, overpassQueryBuilder\n",
    "from OSMPythonTools.nominatim import Nominatim\n",
    "import math\n",
    "import numpy as np\n",
    "import pandas as pd"
   ]
  },
  {
   "cell_type": "code",
   "execution_count": 128,
   "metadata": {},
   "outputs": [],
   "source": [
    "DISTANCE = 5"
   ]
  },
  {
   "cell_type": "code",
   "execution_count": 129,
   "metadata": {},
   "outputs": [],
   "source": [
    "def deg2rad(deg):\n",
    "  return deg * (math.pi/180)\n",
    "\n",
    "def getDistanceFromLatLonInKm(coords1,coords2):\n",
    "    R = 6371 #Radius of the earth in km\n",
    "    dLat = deg2rad(coords2[0] - coords1[0])\n",
    "    dLon = deg2rad(coords2[1] - coords1[1])\n",
    "\n",
    "    a = math.sin(dLat/2) * math.sin(dLat/2) + math.cos(deg2rad(coords1[0])) * math.cos(deg2rad(coords2[0])) * math.sin(dLon/2) * math.sin(dLon/2)\n",
    "   \n",
    "    c = 2 * math.atan2(math.sqrt(a), math.sqrt(1-a)); \n",
    "    d = R * c * 1000 # Distance in m\n",
    "    \n",
    "    return d"
   ]
  },
  {
   "cell_type": "code",
   "execution_count": 130,
   "metadata": {},
   "outputs": [],
   "source": [
    "op = Overpass()\n",
    "nm = Nominatim()"
   ]
  },
  {
   "cell_type": "code",
   "execution_count": 131,
   "metadata": {},
   "outputs": [
    {
     "data": {
      "text/plain": [
       "3601682248"
      ]
     },
     "execution_count": 131,
     "metadata": {},
     "output_type": "execute_result"
    }
   ],
   "source": [
    "area = nm.query(\"Zurich, Switzerland\")\n",
    "area.areaId()"
   ]
  },
  {
   "cell_type": "code",
   "execution_count": 132,
   "metadata": {},
   "outputs": [
    {
     "data": {
      "text/plain": [
       "944"
      ]
     },
     "execution_count": 132,
     "metadata": {},
     "output_type": "execute_result"
    }
   ],
   "source": [
    "fountain_query = overpassQueryBuilder(area=area.areaId(), elementType='node', selector='\"amenity\"=\"drinking_water\"')\n",
    "fountain_output = op.query(query=fountain_query)\n",
    "fountain_output.countNodes()"
   ]
  },
  {
   "cell_type": "code",
   "execution_count": 133,
   "metadata": {},
   "outputs": [
    {
     "data": {
      "text/plain": [
       "6260"
      ]
     },
     "execution_count": 133,
     "metadata": {},
     "output_type": "execute_result"
    }
   ],
   "source": [
    "benches_query = overpassQueryBuilder(area=area.areaId(), elementType='node', selector='\"amenity\"=\"bench\"')\n",
    "benches_output = op.query(query=benches_query)\n",
    "benches_output.countNodes()"
   ]
  },
  {
   "cell_type": "code",
   "execution_count": 134,
   "metadata": {},
   "outputs": [],
   "source": [
    "benches_coords = [(x.lat(), x.lon()) for x in benches_output.elements()]\n",
    "fountain_coords = [(x.lat(), x.lon()) for x in fountain_output.elements()]"
   ]
  },
  {
   "cell_type": "code",
   "execution_count": 135,
   "metadata": {},
   "outputs": [
    {
     "data": {
      "text/plain": [
       "(944, 6260)"
      ]
     },
     "execution_count": 135,
     "metadata": {},
     "output_type": "execute_result"
    }
   ],
   "source": [
    "cross = np.zeros((len(fountain_coords), len(benches_coords)))\n",
    "for i, f in enumerate(fountain_coords):\n",
    "    for j, b in enumerate(benches_coords):\n",
    "        cross[i,j] = getDistanceFromLatLonInKm(f, b)\n",
    "cross.shape"
   ]
  },
  {
   "cell_type": "code",
   "execution_count": 136,
   "metadata": {},
   "outputs": [],
   "source": [
    "map = cross < DISTANCE"
   ]
  },
  {
   "cell_type": "code",
   "execution_count": 137,
   "metadata": {},
   "outputs": [],
   "source": [
    "reduced = np.any(map, axis=1)\n",
    "indeces, = np.where(reduced)"
   ]
  },
  {
   "cell_type": "code",
   "execution_count": 138,
   "metadata": {},
   "outputs": [
    {
     "data": {
      "text/plain": [
       "111"
      ]
     },
     "execution_count": 138,
     "metadata": {},
     "output_type": "execute_result"
    }
   ],
   "source": [
    "elems = np.array(fountain_output.elements())\n",
    "final = elems[indeces]\n",
    "len(final)"
   ]
  },
  {
   "cell_type": "code",
   "execution_count": 139,
   "metadata": {},
   "outputs": [
    {
     "data": {
      "text/plain": [
       "array([   60733338,    60734353,    61272331,    73242944,    83325695,\n",
       "          83326029,    84507238,    84511951,   102713251,   240714137,\n",
       "         262378043,   287423001,   333187280,   345831607,   353222181,\n",
       "         366921147,   368348027,   373510745,   385443211,   448855235,\n",
       "         448855247,   448855255,   450928154,   471792545,   474738688,\n",
       "         481443885,   492010054,   500913369,   667406248,   672749756,\n",
       "         684346495,   698059005,   767253408,   767502384,   792594100,\n",
       "         853916702,   875617216,   891896177,   922778609,   943929803,\n",
       "        1274907098,  1274907110,  1375539737,  1397530120,  1517967595,\n",
       "        1614556178,  1735294011,  1756233049,  1819650977,  1878383146,\n",
       "        1943556638,  1977731106,  2121032955,  2202847989,  2211167508,\n",
       "        2214821372,  2222137103,  2222137107,  2288917833,  2340248120,\n",
       "        2459524577,  2583985953,  2665685703,  2688268601,  2820206990,\n",
       "        2917165571,  2930249899,  3000057373,  3441413306,  3447405110,\n",
       "        3447413867,  3650257832,  3653699176,  3784107362,  3796282561,\n",
       "        3832917171,  4029060490,  4031566301,  4350173470,  4446588689,\n",
       "        4581798776,  4581892193,  4693320589,  4873312942,  4949132284,\n",
       "        4960082408,  4975615818,  4986917831,  4988194788,  5050668136,\n",
       "        5056780728,  5131443548,  5199095606,  5407333412,  5407455235,\n",
       "        5410074689,  5437863325,  5473335678,  5488625046,  5760206060,\n",
       "        5760206098,  5760206099,  5760206100,  5760206101,  6369672343,\n",
       "        6369672344,  6535002423,  6784308071,  8976976518,  9820132411,\n",
       "       11005982758])"
      ]
     },
     "execution_count": 139,
     "metadata": {},
     "output_type": "execute_result"
    }
   ],
   "source": [
    "ids = np.array([x.id() for x in final])\n",
    "ids"
   ]
  }
 ],
 "metadata": {
  "kernelspec": {
   "display_name": "Python 3",
   "language": "python",
   "name": "python3"
  },
  "language_info": {
   "codemirror_mode": {
    "name": "ipython",
    "version": 3
   },
   "file_extension": ".py",
   "mimetype": "text/x-python",
   "name": "python",
   "nbconvert_exporter": "python",
   "pygments_lexer": "ipython3",
   "version": "3.10.6"
  },
  "orig_nbformat": 4
 },
 "nbformat": 4,
 "nbformat_minor": 2
}
